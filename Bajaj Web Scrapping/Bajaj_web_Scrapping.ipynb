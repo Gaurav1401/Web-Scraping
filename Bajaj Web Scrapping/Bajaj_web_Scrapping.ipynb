{
 "cells": [
  {
   "cell_type": "code",
   "execution_count": 1,
   "metadata": {},
   "outputs": [
    {
     "name": "stderr",
     "output_type": "stream",
     "text": [
      "\n",
      "\n",
      "====== WebDriver manager ======\n",
      "Current google-chrome version is 98.0.4758\n",
      "Get LATEST chromedriver version for 98.0.4758 google-chrome\n",
      "Driver [C:\\Users\\hp\\.wdm\\drivers\\chromedriver\\win32\\98.0.4758.80\\chromedriver.exe] found in cache\n"
     ]
    },
    {
     "name": "stdout",
     "output_type": "stream",
     "text": [
      "ANDHRA PRADESH\n",
      "ANDAMAN AND NICOBAR\n",
      "ASSAM\n",
      "BIHAR\n",
      "CHANDIGARH\n",
      "CHATTISGARH\n",
      "CHHATTISGARH\n",
      "DELHI\n",
      "DADRA AND NAGAR HAVELI\n",
      "GOA\n",
      "GUJARAT\n",
      "HARYANA\n",
      "HIMACHAL PRADESH\n",
      "JAMMU AND KASHMIR\n",
      "JHARKHAND\n",
      "KARNATAKA\n",
      "KERALA\n",
      "MADHYA PRADESH\n",
      "MAHARASHTRA\n",
      "MANIPUR\n",
      "MEGHALAYA\n",
      "MIZORAM\n",
      "NAGALAND\n",
      "ODISHA\n",
      "ORISSA\n",
      "PONDICHERRY\n",
      "PUNJAB\n",
      "RAJASTHAN\n",
      "SECUNDERABAD\n",
      "SIKKIM\n",
      "TAMIL NADU\n",
      "TELANGANA\n",
      "TRIPURA\n",
      "UTTAR PRADESH\n",
      "UTTARAKHAND\n",
      "UTTARANCHAL\n",
      "WEST BENGAL\n"
     ]
    }
   ],
   "source": [
    "from selenium import webdriver\n",
    "from selenium.webdriver.common.by import By\n",
    "from webdriver_manager.chrome import ChromeDriverManager\n",
    "from selenium.webdriver.support.ui import Select\n",
    "from selenium.common.exceptions import TimeoutException, WebDriverException\n",
    "import pandas as pd\n",
    "\n",
    "driver = webdriver.Chrome(ChromeDriverManager().install())\n",
    "driver.maximize_window()\n",
    "driver.get(\"https://general.bajajallianz.com/BagicNxt/hm/hmSearchExternalHosp.do\")\n",
    "driver.implicitly_wait(5)\n",
    "\n",
    "def obj_to_text(obj):\n",
    "    return obj.text\n",
    "\n",
    "def to_upper(string):\n",
    "    return string.upper()\n",
    "\n",
    "dct = {'col2' : [],\n",
    "       'col3' : [],\n",
    "       'col4' : [],\n",
    "       'col5' : [],\n",
    "       'col6' : [],\n",
    "       'col7' : [],\n",
    "       'col8' : []}\n",
    "\n",
    "states = ['Andhra Pradesh','Andaman and nicobar','Assam','Bihar','chandigarh','Chattisgarh','Chhattisgarh',\n",
    "'delhi','dadra and nagar haveli','Goa','Gujarat','Haryana','Himachal Pradesh','Jammu and Kashmir','Jharkhand',\n",
    "'Karnataka','Kerala','Madhya Pradesh','Maharashtra','Manipur','Meghalaya',\n",
    "'Mizoram','Nagaland','Odisha','Orissa','pondicherry','Punjab','Rajasthan','secunderabad','Sikkim','Tamil Nadu',\n",
    "'Telangana','Tripura','Uttar Pradesh','Uttarakhand','UTTARANCHAL','West Bengal']\n",
    "states = list(map(to_upper, states))\n",
    "\n",
    "for state in states:\n",
    "    select = Select(driver.find_element(By.XPATH, '//*[@id=\"p_search_criteria.stringval1\"]'))\n",
    "    print(state)\n",
    "    select.select_by_visible_text(f'{state}')\n",
    "    driver.find_element(By.XPATH, '//*[@id=\"search\"]').click()\n",
    "    num_rows = len(driver.find_elements(By.XPATH, '//*[@id=\"result\"]'))\n",
    "    if num_rows > 0:\n",
    "        while True:\n",
    "            try:\n",
    "                for i in range(2,9):\n",
    "                    text = driver.find_elements(By.XPATH, f'//*[@id=\"result\"]/td[{i}]')\n",
    "                    text = list(map(obj_to_text, text))\n",
    "                    dct['col'+str(i)] += text \n",
    "                    # print(text)\n",
    "                driver.find_element(By.XPATH, '/html/body/form/div/div/div[2]/div[8]/div/div/a[2]').click()\n",
    "                # print()\n",
    "                # print(\"Navigating to Next page\")\n",
    "                # print()\n",
    "            except (TimeoutException, WebDriverException) as e:\n",
    "                # print(\"Last Page reached\")\n",
    "                break\n",
    "    else:\n",
    "        continue"
   ]
  },
  {
   "cell_type": "code",
   "execution_count": 5,
   "metadata": {},
   "outputs": [
    {
     "data": {
      "text/plain": [
       "7354"
      ]
     },
     "execution_count": 5,
     "metadata": {},
     "output_type": "execute_result"
    }
   ],
   "source": [
    "len(dct['col2'])"
   ]
  },
  {
   "cell_type": "code",
   "execution_count": 9,
   "metadata": {},
   "outputs": [],
   "source": [
    "cols = ['Hospital Name', 'Hospital Address', 'City Name', 'Pin Code', 'State', 'Hospital Type', 'Contact Number']\n",
    "df = pd.DataFrame(dct)\n",
    "df.columns = cols"
   ]
  },
  {
   "cell_type": "code",
   "execution_count": 12,
   "metadata": {},
   "outputs": [
    {
     "data": {
      "text/html": [
       "<div>\n",
       "<style scoped>\n",
       "    .dataframe tbody tr th:only-of-type {\n",
       "        vertical-align: middle;\n",
       "    }\n",
       "\n",
       "    .dataframe tbody tr th {\n",
       "        vertical-align: top;\n",
       "    }\n",
       "\n",
       "    .dataframe thead th {\n",
       "        text-align: right;\n",
       "    }\n",
       "</style>\n",
       "<table border=\"1\" class=\"dataframe\">\n",
       "  <thead>\n",
       "    <tr style=\"text-align: right;\">\n",
       "      <th></th>\n",
       "      <th>Hospital Name</th>\n",
       "      <th>Hospital Address</th>\n",
       "      <th>City Name</th>\n",
       "      <th>Pin Code</th>\n",
       "      <th>State</th>\n",
       "      <th>Hospital Type</th>\n",
       "      <th>Contact Number</th>\n",
       "    </tr>\n",
       "  </thead>\n",
       "  <tbody>\n",
       "    <tr>\n",
       "      <th>0</th>\n",
       "      <td>AMMA HOSPITAL - KURNOOL</td>\n",
       "      <td>MADHAVA NAGAR,NANDYAL ROAD</td>\n",
       "      <td>KURNOOL</td>\n",
       "      <td>518002</td>\n",
       "      <td>ANDHRA PRADESH</td>\n",
       "      <td>PPN</td>\n",
       "      <td>[8518]272379</td>\n",
       "    </tr>\n",
       "    <tr>\n",
       "      <th>1</th>\n",
       "      <td>KAMINENI HEALTH CARE PVT LTD</td>\n",
       "      <td>1-51, KAMINENI HOSPITALS,100 FEETS ROAD, TADIG...</td>\n",
       "      <td>VIJAYAWADA</td>\n",
       "      <td>521137</td>\n",
       "      <td>ANDHRA PRADESH</td>\n",
       "      <td>PPN</td>\n",
       "      <td>[866]0866-2463333</td>\n",
       "    </tr>\n",
       "    <tr>\n",
       "      <th>2</th>\n",
       "      <td>LIBERTY HOSPITALS - VIJAYAWADA</td>\n",
       "      <td>74-1-2,KING SQUARE COMPLEX,OPP:AUTONAGER BUSTE...</td>\n",
       "      <td>VIJAYAWADA</td>\n",
       "      <td>520007</td>\n",
       "      <td>ANDHRA PRADESH</td>\n",
       "      <td>PPN</td>\n",
       "      <td>[0866]2554888</td>\n",
       "    </tr>\n",
       "    <tr>\n",
       "      <th>3</th>\n",
       "      <td>SURAKSHA HEALTH PARK HOSPITALS - VISAKHAPATNAM</td>\n",
       "      <td>104 AREA,OPPOSITE HANUMAN TEMPLE,MAIN ROAD ,MA...</td>\n",
       "      <td>VISAKHAPATNAM</td>\n",
       "      <td>530018</td>\n",
       "      <td>ANDHRA PRADESH</td>\n",
       "      <td>PPN</td>\n",
       "      <td>[891]6646666</td>\n",
       "    </tr>\n",
       "    <tr>\n",
       "      <th>4</th>\n",
       "      <td>VENKATAPADMA HOSPITAL - VIZIANAGARAM</td>\n",
       "      <td>D.NO:15-1-45, 3 LAMPS JUNCTION, BESIDE MAJID</td>\n",
       "      <td>VIZIANAGARAM</td>\n",
       "      <td>535002</td>\n",
       "      <td>ANDHRA PRADESH</td>\n",
       "      <td>PPN</td>\n",
       "      <td>[8922]227131/225777/232000</td>\n",
       "    </tr>\n",
       "  </tbody>\n",
       "</table>\n",
       "</div>"
      ],
      "text/plain": [
       "                                    Hospital Name  \\\n",
       "0                         AMMA HOSPITAL - KURNOOL   \n",
       "1                    KAMINENI HEALTH CARE PVT LTD   \n",
       "2                  LIBERTY HOSPITALS - VIJAYAWADA   \n",
       "3  SURAKSHA HEALTH PARK HOSPITALS - VISAKHAPATNAM   \n",
       "4            VENKATAPADMA HOSPITAL - VIZIANAGARAM   \n",
       "\n",
       "                                    Hospital Address       City Name Pin Code  \\\n",
       "0                         MADHAVA NAGAR,NANDYAL ROAD         KURNOOL   518002   \n",
       "1  1-51, KAMINENI HOSPITALS,100 FEETS ROAD, TADIG...      VIJAYAWADA   521137   \n",
       "2  74-1-2,KING SQUARE COMPLEX,OPP:AUTONAGER BUSTE...      VIJAYAWADA   520007   \n",
       "3  104 AREA,OPPOSITE HANUMAN TEMPLE,MAIN ROAD ,MA...   VISAKHAPATNAM   530018   \n",
       "4       D.NO:15-1-45, 3 LAMPS JUNCTION, BESIDE MAJID    VIZIANAGARAM   535002   \n",
       "\n",
       "             State Hospital Type               Contact Number  \n",
       "0   ANDHRA PRADESH           PPN                 [8518]272379  \n",
       "1   ANDHRA PRADESH           PPN            [866]0866-2463333  \n",
       "2   ANDHRA PRADESH           PPN                [0866]2554888  \n",
       "3   ANDHRA PRADESH           PPN                 [891]6646666  \n",
       "4   ANDHRA PRADESH           PPN   [8922]227131/225777/232000  "
      ]
     },
     "execution_count": 12,
     "metadata": {},
     "output_type": "execute_result"
    }
   ],
   "source": [
    "df.head()"
   ]
  },
  {
   "cell_type": "code",
   "execution_count": 11,
   "metadata": {},
   "outputs": [],
   "source": [
    "df.to_csv('bajajallianz.csv')"
   ]
  }
 ],
 "metadata": {
  "kernelspec": {
   "display_name": "Python 3",
   "language": "python",
   "name": "python3"
  },
  "language_info": {
   "codemirror_mode": {
    "name": "ipython",
    "version": 3
   },
   "file_extension": ".py",
   "mimetype": "text/x-python",
   "name": "python",
   "nbconvert_exporter": "python",
   "pygments_lexer": "ipython3",
   "version": "3.8.5"
  }
 },
 "nbformat": 4,
 "nbformat_minor": 4
}
